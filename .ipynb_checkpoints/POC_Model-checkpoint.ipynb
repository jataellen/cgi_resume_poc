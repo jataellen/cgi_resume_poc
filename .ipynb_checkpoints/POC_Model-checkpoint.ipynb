{
 "cells": [
  {
   "cell_type": "markdown",
   "id": "37e94a4c-506f-4d12-a012-06be8e265326",
   "metadata": {},
   "source": [
    "# POC Model"
   ]
  },
  {
   "cell_type": "markdown",
   "id": "4456a4e2-4227-42ee-83e9-71d5ff3234d8",
   "metadata": {},
   "source": [
    "### Imports"
   ]
  },
  {
   "cell_type": "code",
   "execution_count": 65,
   "id": "04a17587-84d0-44db-83bc-399925a890c6",
   "metadata": {},
   "outputs": [],
   "source": [
    "import os\n",
    "from openai import AzureOpenAI\n",
    "from langchain_openai import AzureChatOpenAI\n",
    "from langchain.schema import SystemMessage, HumanMessage\n",
    "import json\n",
    "from langchain_community.document_loaders import PyPDFLoader\n",
    "import datetime\n",
    "from docx import Document\n"
   ]
  },
  {
   "cell_type": "markdown",
   "id": "ae8c1ca7-04ce-440e-af2d-b61de11dc793",
   "metadata": {},
   "source": [
    "### Inits"
   ]
  },
  {
   "cell_type": "code",
   "execution_count": 66,
   "id": "b1567e52-8f25-4d96-8342-397a89e02dad",
   "metadata": {},
   "outputs": [],
   "source": [
    "os.environ[\"AZURE_OPENAI_API_KEY\"] = \"EOkfcf05uMhPPi5vtu0OmXUMrpdNc4Ji65zbVs1iZZGbbdGvunPhJQQJ99BBACYeBjFXJ3w3AAABACOGejoY\"\n",
    "os.environ[\"AZURE_OPENAI_ENDPOINT\"] = \"https://cgi-resume-openai.openai.azure.com/openai/deployments/gpt-4o/chat/completions?api-version=2024-10-21\""
   ]
  },
  {
   "cell_type": "code",
   "execution_count": 67,
   "id": "63380eac-4ed4-4de9-8f65-c146f1e3db9d",
   "metadata": {},
   "outputs": [],
   "source": [
    "llm = AzureChatOpenAI(\n",
    "    azure_endpoint=os.environ[\"AZURE_OPENAI_ENDPOINT\"],\n",
    "    api_key=os.environ[\"AZURE_OPENAI_API_KEY\"],\n",
    "    api_version=\"2024-12-01-preview\",\n",
    "    deployment_name=\"gpt-4o\",\n",
    "    model=\"gpt-4o\",  # Ensure function calling support\n",
    ")"
   ]
  },
  {
   "cell_type": "markdown",
   "id": "f09c386b-a79b-4358-8723-aa8fac3969c5",
   "metadata": {},
   "source": [
    "### Load PDF"
   ]
  },
  {
   "cell_type": "code",
   "execution_count": 68,
   "id": "41f709c5-985b-48f0-8804-11413a1744c0",
   "metadata": {},
   "outputs": [],
   "source": [
    "file_path = \"Bila Gaite Resume - CGI Consulting  copy 1.pdf\"\n",
    "\n",
    "loader = PyPDFLoader(file_path)\n",
    "pages = []\n",
    "async for page in loader.alazy_load():\n",
    "    pages.append(page)\n",
    "\n",
    "pdf_text = \"\\n\".join([doc.page_content for doc in  pages])\n"
   ]
  },
  {
   "cell_type": "markdown",
   "id": "32568594-875c-47ce-b9fb-bef481e68208",
   "metadata": {},
   "source": [
    "### Structure file"
   ]
  },
  {
   "cell_type": "code",
   "execution_count": 69,
   "id": "4cb68f95-e777-44bf-a6f7-fb8fd85b89c6",
   "metadata": {},
   "outputs": [],
   "source": [
    "current_date = datetime.datetime.now().date()\n",
    "\n",
    "with open('json_schema.json', 'r') as file:\n",
    "    json_schema = json.load(file)"
   ]
  },
  {
   "cell_type": "code",
   "execution_count": 70,
   "id": "751caa70-d2b4-4cc4-b21f-9b48b749dba4",
   "metadata": {},
   "outputs": [],
   "source": [
    "# Define the messages for the LLM\n",
    "messages = [\n",
    "    SystemMessage(\n",
    "        content=\"You are an AI that extracts structured information from plain text resumes and returns JSON output.\"\n",
    "    ),\n",
    "    HumanMessage(\n",
    "        content=(\n",
    "            f\"Extract and structure the following text into JSON format:\\n\\n{pdf_text}\\n\\n\"\n",
    "            f\"Ensure the response matches this schema:\\n{json.dumps(json_schema, indent=2)}\"\n",
    "        )\n",
    "    ),\n",
    "]\n",
    "\n",
    "response = llm.invoke(messages, functions=[json_schema])\n",
    "structured_data = response.additional_kwargs[\"function_call\"][\"arguments\"]\n",
    "structured_data = json.loads(structured_data)"
   ]
  },
  {
   "cell_type": "markdown",
   "id": "b6a3da82-b039-4122-8b9d-99286936e15d",
   "metadata": {},
   "source": [
    "### Profile"
   ]
  },
  {
   "cell_type": "code",
   "execution_count": 71,
   "id": "5181bc1f-41f7-44d2-94be-18f12633b4e0",
   "metadata": {},
   "outputs": [],
   "source": [
    "### Professional Summary\n",
    "messages = [\n",
    "    SystemMessage(\n",
    "        content=\"You are an AI that takes structured resumes in JSON format and writes a compelling, professional summary of the applicant.\"\n",
    "    ),\n",
    "    HumanMessage(\n",
    "        content=(\n",
    "            \"Using the following structured resume data in JSON format:\\n\\n\"\n",
    "            f\"{structured_data}\\n\\n\"\n",
    "            \"Write a well-crafted, three-paragraph professional profile of the applicant in the third person. \"\n",
    "            \"Keep a good balance of detailed and concise. Do not use AI-isms\"\n",
    "            \"Incorporate their professional summary, work experience, education, skills, certifications, and any notable achievements. \"\n",
    "            \"Highlight their expertise, impact, and technical skills, ensuring the profile flows naturally and is engaging.\"\n",
    "        )\n",
    "    ),\n",
    "]\n",
    "\n",
    "\n",
    "response = llm.invoke(messages, functions=[json_schema])\n",
    "\n",
    "profile = response.content.strip()"
   ]
  },
  {
   "cell_type": "code",
   "execution_count": 72,
   "id": "f117f118-487b-477d-af93-19aade79a609",
   "metadata": {},
   "outputs": [],
   "source": [
    "# Years of Experience\n",
    "messages = [\n",
    "    SystemMessage(\n",
    "        content=\"You are an AI that takes in a professional summary and determines the applicants years of experience.\"\n",
    "    ),\n",
    "    HumanMessage(\n",
    "        content=(\n",
    "            \"Using the following professional summary:\\n\\n\"\n",
    "            f\"{profile}\\n\\n\"\n",
    "            \"Write a very concise header desribing their experience in the following format:\\n <X> years experience in <X_category>\\nex: 5 years of experience in Software Development\"\n",
    "        )\n",
    "    ),\n",
    "]\n",
    "\n",
    "\n",
    "# Call the LLM with function calling enabled\n",
    "response = llm.invoke(messages, functions=[json_schema])\n",
    "\n",
    "years_exp = response.content.strip()"
   ]
  },
  {
   "cell_type": "code",
   "execution_count": 73,
   "id": "586aa8d0-e440-46f1-9453-fc20a722e677",
   "metadata": {},
   "outputs": [],
   "source": [
    "def call_llm(overall, section, text_input=pdf_text):\n",
    "    messages = [\n",
    "        SystemMessage(\n",
    "            content=overall[section]['system_prompt']\n",
    "        ),\n",
    "        HumanMessage(\n",
    "            content=(overall[section]['human_prompt'].format(text_input=text_input, json_dump=json.dumps(overall[section]['json_schema'], indent=2)))\n",
    "        ), \n",
    "    ]\n",
    "    response = llm.invoke(messages, functions=[overall[section]['json_schema']])\n",
    "    structured_data = response.additional_kwargs[\"function_call\"][\"arguments\"]\n",
    "    json_structured_data = json.loads(structured_data)\n",
    "    \n",
    "    return json_structured_data"
   ]
  },
  {
   "cell_type": "code",
   "execution_count": 74,
   "id": "08c3fc43-9f37-43d7-8158-0f6151132bc3",
   "metadata": {},
   "outputs": [],
   "source": [
    "with open(\"overall.json\", 'r') as file:\n",
    "    overall = json.load(file)"
   ]
  },
  {
   "cell_type": "code",
   "execution_count": 75,
   "id": "8ce47984-1269-41c5-abdc-b1505386052f",
   "metadata": {},
   "outputs": [
    {
     "name": "stdout",
     "output_type": "stream",
     "text": [
      "Loading...\n",
      "\t>Completed key: experience\n",
      "\t>Completed key: volunteer\n",
      "\t>Completed key: other_sections\n",
      "\t>Completed key: skills_summary\n"
     ]
    }
   ],
   "source": [
    "res_dict = dict()\n",
    "\n",
    "print(\"Loading...\")\n",
    "for key in overall.keys():\n",
    "    res_dict[key] = call_llm(overall, key, pdf_text)\n",
    "    print(f\"\\t>> Completed key: {key}\")\n"
   ]
  },
  {
   "cell_type": "markdown",
   "id": "dc2b86ec-4cb3-4787-be55-2aea71e67e0c",
   "metadata": {},
   "source": [
    "# Formatting to doc"
   ]
  },
  {
   "cell_type": "code",
   "execution_count": 76,
   "id": "ae45d1e5-6305-4da2-a484-e115a22b7253",
   "metadata": {},
   "outputs": [],
   "source": [
    "def replicate_section(doc, start_tag, end_tag, replacements, times_to_repeat):\n",
    "    \"\"\"\n",
    "    Duplicates the section between start_tag and end_tag (inclusive), replacing the tags with specified values.\n",
    "    \"\"\"\n",
    "   \n",
    "    para_group = []\n",
    "    inside_section = False\n",
    "    end_para = None\n",
    "    \n",
    "    for paragraph in doc.paragraphs:\n",
    "        if start_tag in paragraph.text:\n",
    "            inside_section = True\n",
    "            paragraph.text = paragraph.text.replace(f\"{start_tag}\", \"\")\n",
    "        if inside_section:\n",
    "            para_group.append(paragraph)\n",
    "        if end_tag in paragraph.text and inside_section:\n",
    "            end_para = paragraph\n",
    "            inside_section = False\n",
    "            paragraph.text = paragraph.text.replace(f\"{end_tag}\", \"\")\n",
    "            break \n",
    "    \n",
    "    end_para = end_para._p\n",
    "    for i in range(times_to_repeat):\n",
    "        new_para_lst = []\n",
    "        for paragraph in para_group:\n",
    "            paragraph.text = paragraph.text.replace(f\"{start_tag}\", \"\")\n",
    "            paragraph.text = paragraph.text.replace(f\"{end_tag}\", \"\")\n",
    "            \n",
    "            new_paragraph = doc.add_paragraph()\n",
    "            new_paragraph.alignment = paragraph.alignment\n",
    "            new_paragraph.style = paragraph.style\n",
    "            \n",
    "\n",
    "            new_paragraph.text = paragraph.text    \n",
    "            new_para_lst.append(new_paragraph)\n",
    "            \n",
    "        for para in new_para_lst:\n",
    "            end_para.addnext(para._p)\n",
    "            end_para = para._p\n",
    "\n",
    "# def replicate_row(doc, key, res_dict_skills):\n",
    "    \n",
    "\n",
    "\n",
    "\n",
    "\n",
    "def replace_text_in_docx(doc, replacements):\n",
    "    \"\"\"\n",
    "    Replaces text in a DOCX file, and replicates sections based on the specified start and end tags.\n",
    "    \"\"\"\n",
    "    for key, value in replacements:\n",
    "        for paragraph in doc.paragraphs:\n",
    "        \n",
    "            if key in paragraph.text:\n",
    "                if isinstance(value, list):\n",
    "                    paragraph.style = 'ListBullet'\n",
    "                    x_par = paragraph._p\n",
    "                    if len(value) > 1:\n",
    "                        paragraph.text = paragraph.text.replace(key, value[0])\n",
    "                        value = value[1:]\n",
    "                        for bp in value[::-1]:\n",
    "                            para = doc.add_paragraph(bp, style='ListBullet')\n",
    "                            x_par.addnext(para._p)\n",
    "                else:\n",
    "                    paragraph.text = paragraph.text.replace(key, value)\n",
    "                break\n",
    "                \n",
    "        \n",
    "        for table in doc.tables:\n",
    "            for row in table.rows:\n",
    "                for cell in row.cells:\n",
    "                    for paragraph in cell.paragraphs:\n",
    "                        if key in paragraph.text:\n",
    "                            if isinstance(value, list):\n",
    "                                paragraph.style = 'ListBullet'\n",
    "                                x_par = paragraph._p\n",
    "                                paragraph.text = paragraph.text.replace(key, value[0])\n",
    "                                value = value[1:]\n",
    "                                for bp in value:\n",
    "                                    para = doc.add_paragraph(bp, style='ListBullet')\n",
    "                                    x_par.addnext(para._p)\n",
    "                            else:\n",
    "                                paragraph.text = paragraph.text.replace(key, value)\n",
    "                            break\n",
    "                        \n",
    "\n",
    "def handle_skills_summary(doc, replacements, res_dict_skills):\n",
    "    for key, value in replacements:\n",
    "        for table in doc.tables:\n",
    "            for row in table.rows:\n",
    "                if any(key in para.text for cell in row.cells for para in cell.paragraphs):\n",
    "                    cleaned_key = key.replace(\"{\", \"\").replace(\"}\", \"\")\n",
    "                    times_to_repeat = len(res_dict_skills[cleaned_key]) - 1\n",
    "                    for _ in range(times_to_repeat):\n",
    "                        new_row = table.add_row()\n",
    "                        for i, new_cell in enumerate(new_row.cells):\n",
    "                            old_para = row.cells[i].paragraphs[0]\n",
    "                            new_cell.text = old_para.text\n",
    "                            new_cell.paragraphs[0].style = old_para.style\n",
    "                        row._tr.addnext(new_row._tr)\n",
    "\n",
    "\n",
    "def replace_text_in_table(doc, replacements, res_dict):\n",
    "    \"\"\"\n",
    "    Replaces text in a DOCX file, and replicates sections based on the specified start and end tags.\n",
    "    \"\"\"\n",
    "    for key, value in replacements:\n",
    "        for table in doc.tables:\n",
    "            for row in table.rows:\n",
    "                for cell in row.cells:\n",
    "                    replacement_made = False\n",
    "                    for paragraph in cell.paragraphs:\n",
    "                        if key in paragraph.text:\n",
    "                            paragraph.text = paragraph.text.replace(key, value)\n",
    "                            replacement_made = True\n",
    "                            break\n",
    "                    if replacement_made:\n",
    "                        break  \n",
    "                if replacement_made:\n",
    "                    break \n",
    "            if replacement_made:\n",
    "                break  \n",
    "\n",
    "        "
   ]
  },
  {
   "cell_type": "code",
   "execution_count": 79,
   "id": "966b87c7-5f9b-4ddc-8f9d-6001ec4d66d6",
   "metadata": {},
   "outputs": [],
   "source": [
    "# structured_data['education'][1]['field_of_study'] = 'Accounting'"
   ]
  },
  {
   "cell_type": "code",
   "execution_count": 80,
   "id": "98bab668-1c01-4497-88dc-4d68cc53f84e",
   "metadata": {},
   "outputs": [],
   "source": [
    "# certs = []\n",
    "certs = [f\"{i['name']}, {i['issuing_organization']}\" for i in structured_data['certifications']]\n",
    "\n",
    "table_reps = []\n",
    "for key, value in res_dict['skills_summary'].items():\n",
    "    table_reps.append( (\"{\" + key + \"}\", value) )\n",
    "\n",
    "\n",
    "ed_list = [f\"{el['degree']}, {el['field_of_study']} - {el['institution']}\" for el in structured_data['education']]\n"
   ]
  },
  {
   "cell_type": "code",
   "execution_count": 81,
   "id": "9fd22d8a-402c-4984-9e45-0c44044de5dd",
   "metadata": {},
   "outputs": [],
   "source": [
    "# ed_list"
   ]
  },
  {
   "cell_type": "code",
   "execution_count": 85,
   "id": "a559f592-888c-45c6-907d-4f75ddb7029a",
   "metadata": {},
   "outputs": [
    {
     "name": "stdout",
     "output_type": "stream",
     "text": [
      "Updated document saved as: updated_resume.docx\n"
     ]
    }
   ],
   "source": [
    "from docx.oxml.ns import qn\n",
    "from docx.oxml import OxmlElement\n",
    "from docx.shared import Pt  # Import Pt from docx.shared\n",
    "from copy import deepcopy\n",
    "\n",
    "\n",
    "def generate_resume():\n",
    "    # Input/Output\n",
    "    input_filename = \"resume_sample.docx\"\n",
    "    output_filename = \"updated_resume.docx\"\n",
    "    doc = Document(input_filename)\n",
    "    \n",
    "    full_name = structured_data['contact']['name']\n",
    "    cgi_title = \"Consultant\"\n",
    "    sector = \"Health Services\"\n",
    "    \n",
    "    replacements = [\n",
    "        (\"{full_name}\", full_name),\n",
    "        (\"{cgi_title}\", cgi_title),\n",
    "        (\"{years_exp}\", years_exp),\n",
    "        (\"{professional_profile}\", profile),\n",
    "        (\"{industry}\", res_dict['other_sections']['industry_experience']),\n",
    "        (\"{tech_specs}\", res_dict['other_sections']['technical_specializations']),\n",
    "        (\"{expertise}\", res_dict['other_sections']['areas_of_expertise']),\n",
    "        (\"{languages}\", res_dict['other_sections']['languages']),\n",
    "        (\"{environment}\", res_dict['other_sections']['environments']),\n",
    "        (\"{tools}\", res_dict['other_sections']['tools_and_software']),\n",
    "        (\"{certs}\", certs)\n",
    "    ]\n",
    "    \n",
    "    \n",
    "    # CGI Experience\n",
    "    cgi_exp =  res_dict['experience']['cgi_experience']\n",
    "    for exp in cgi_exp:\n",
    "        exp = {k: v for k, v in exp.items() if k in ['sector', 'job_title', 'start_date', 'end_date', 'responsibilities']}\n",
    "        for key, value in exp.items():\n",
    "            replacements.append( (\"{\" + key + \"}\", value) )\n",
    "    times_to_repeat = len(cgi_exp) -1\n",
    "    \n",
    "    replicate_section(doc, \"{begin_cgi_exp}\", \"{end_cgi_exp}\", replacements, times_to_repeat)\n",
    "\n",
    "    # Other Experience\n",
    "    o_exp =  res_dict['experience']['other_experience']\n",
    "    for exp in o_exp:\n",
    "        exp = {k: v for k, v in exp.items() if k in ['company', 'job_title', 'start_date', 'end_date', 'responsibilities']}\n",
    "        for key, value in exp.items():\n",
    "            replacements.append( (\"{\" + key + \"}\", value) )\n",
    "    times_to_repeat = len(o_exp) -1\n",
    "    replicate_section(doc, \"{begin_other_exp}\", \"{end_other_exp}\", replacements, times_to_repeat)\n",
    "   \n",
    "    ed_list = [f\"{el['degree']}, {el['field_of_study']} - {el['institution']}\" for el in structured_data['education']]\n",
    "    replacements.append( (\"{education_entry}\", ed_list) )\n",
    "\n",
    "\n",
    "    replace_text_in_docx(doc, replacements)\n",
    "    handle_skills_summary(doc, table_reps, res_dict['skills_summary'])\n",
    "\n",
    "    replacements = []\n",
    "    for key, value in res_dict['skills_summary'].items():\n",
    "        replacements.extend( [ (\"{\" + key + \"}\", v['skill']) for v in value] )\n",
    "        replacements.extend( [ (\"{num_years}\", str(v['years_of_experience'])) for v in value] )\n",
    "        replacements.extend( [ (\"{skill_level}\", str(v['skill_level'])) for v in value] )\n",
    "\n",
    "    replace_text_in_table(doc, replacements,  res_dict['skills_summary'])\n",
    "\n",
    "    \n",
    "    doc.save(output_filename)\n",
    "    print(f\"Updated document saved as: {output_filename}\")\n",
    "generate_resume()"
   ]
  },
  {
   "cell_type": "code",
   "execution_count": null,
   "id": "7bae6425-7fe7-4b7c-96cd-d3f9666b7b6f",
   "metadata": {},
   "outputs": [],
   "source": []
  }
 ],
 "metadata": {
  "kernelspec": {
   "display_name": "Python 3 (ipykernel)",
   "language": "python",
   "name": "python3"
  },
  "language_info": {
   "codemirror_mode": {
    "name": "ipython",
    "version": 3
   },
   "file_extension": ".py",
   "mimetype": "text/x-python",
   "name": "python",
   "nbconvert_exporter": "python",
   "pygments_lexer": "ipython3",
   "version": "3.13.1"
  }
 },
 "nbformat": 4,
 "nbformat_minor": 5
}
