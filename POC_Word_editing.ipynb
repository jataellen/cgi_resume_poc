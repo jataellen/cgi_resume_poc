{
 "cells": [
  {
   "cell_type": "code",
   "execution_count": 10,
   "id": "fc403718-d772-4f90-b2c4-2ef5a4180a89",
   "metadata": {},
   "outputs": [
    {
     "name": "stdout",
     "output_type": "stream",
     "text": [
      "Collecting python-docx\n",
      "  Downloading python_docx-1.1.2-py3-none-any.whl.metadata (2.0 kB)\n",
      "Requirement already satisfied: lxml>=3.1.0 in c:\\users\\jata.maccabe\\appdata\\local\\programs\\python\\python313\\lib\\site-packages (from python-docx) (5.3.1)\n",
      "Requirement already satisfied: typing-extensions>=4.9.0 in c:\\users\\jata.maccabe\\appdata\\local\\programs\\python\\python313\\lib\\site-packages (from python-docx) (4.12.2)\n",
      "Downloading python_docx-1.1.2-py3-none-any.whl (244 kB)\n",
      "Installing collected packages: python-docx\n",
      "Successfully installed python-docx-1.1.2\n"
     ]
    },
    {
     "name": "stderr",
     "output_type": "stream",
     "text": [
      "\n",
      "[notice] A new release of pip is available: 24.3.1 -> 25.0.1\n",
      "[notice] To update, run: python.exe -m pip install --upgrade pip\n"
     ]
    }
   ],
   "source": [
    "!pip install python-docx "
   ]
  },
  {
   "cell_type": "code",
   "execution_count": 12,
   "id": "07dcd4df-1bda-413f-a5a5-cc8559abd069",
   "metadata": {},
   "outputs": [],
   "source": [
    "# import the Document class  \n",
    "# from the docx module \n",
    "from docx import Document \n",
    "  \n",
    "# create an instance of a  \n",
    "# word document we want to open \n",
    "doc = Document('CGI CV - Maccabe, jata.docx') \n",
    "  \n",
    "# # print the list of paragraphs in the document \n",
    "# print('List of paragraph objects:->>>') \n",
    "# print(doc.paragraphs) \n",
    "  \n",
    "# # print the list of the runs  \n",
    "# # in a specified paragraph \n",
    "# print('\\nList of runs objects in 1st paragraph:->>>') \n",
    "# print(doc.paragraphs[0].runs) \n",
    "  \n",
    "# # print the text in a paragraph  \n",
    "# print('\\nText in the 1st paragraph:->>>') \n",
    "# print(doc.paragraphs[0].text) \n",
    "  \n",
    "# # for printing the complete document \n",
    "# print('\\nThe whole content of the document:->>>\\n') \n",
    "# for para in doc.paragraphs: \n",
    "#     print(para.text) "
   ]
  },
  {
   "cell_type": "code",
   "execution_count": null,
   "id": "116e6477-82b9-4bf3-9287-2fbf0c5bf8bb",
   "metadata": {},
   "outputs": [],
   "source": []
  }
 ],
 "metadata": {
  "kernelspec": {
   "display_name": "Python 3 (ipykernel)",
   "language": "python",
   "name": "python3"
  },
  "language_info": {
   "codemirror_mode": {
    "name": "ipython",
    "version": 3
   },
   "file_extension": ".py",
   "mimetype": "text/x-python",
   "name": "python",
   "nbconvert_exporter": "python",
   "pygments_lexer": "ipython3",
   "version": "3.13.1"
  }
 },
 "nbformat": 4,
 "nbformat_minor": 5
}
