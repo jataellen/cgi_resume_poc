{
 "cells": [
  {
   "cell_type": "markdown",
   "id": "37e94a4c-506f-4d12-a012-06be8e265326",
   "metadata": {},
   "source": [
    "# Word Export Testing  "
   ]
  },
  {
   "cell_type": "markdown",
   "id": "4456a4e2-4227-42ee-83e9-71d5ff3234d8",
   "metadata": {},
   "source": [
    "### Imports"
   ]
  },
  {
   "cell_type": "code",
   "execution_count": 6,
   "id": "04a17587-84d0-44db-83bc-399925a890c6",
   "metadata": {},
   "outputs": [],
   "source": [
    "\n",
    "from docx import Document\n",
    "from src.resume_generator import *\n",
    "\n"
   ]
  },
  {
   "cell_type": "markdown",
   "id": "dc2b86ec-4cb3-4787-be55-2aea71e67e0c",
   "metadata": {},
   "source": [
    "# Formatting to doc"
   ]
  },
  {
   "cell_type": "code",
   "execution_count": 7,
   "id": "f7f31395",
   "metadata": {},
   "outputs": [
    {
     "name": "stdout",
     "output_type": "stream",
     "text": [
      "Data loaded from resume_data.json:\n"
     ]
    }
   ],
   "source": [
    "import json\n",
    "\n",
    "# Load the data from the JSON file\n",
    "with open('resume_data.json', 'r') as json_file:\n",
    "    loaded_data = json.load(json_file)\n",
    "\n",
    "print(\"Data loaded from resume_data.json:\")\n",
    "# print(loaded_data)\n"
   ]
  },
  {
   "cell_type": "code",
   "execution_count": 8,
   "id": "3252c992",
   "metadata": {},
   "outputs": [
    {
     "name": "stderr",
     "output_type": "stream",
     "text": [
      "c:\\Users\\jata.maccabe\\Documents\\GitHub\\cgi_resume_poc\\rg-venv\\Lib\\site-packages\\docx\\styles\\styles.py:130: UserWarning: style lookup by style_id is deprecated. Use style name as key instead.\n",
      "  return self._get_style_id_from_style(self[style_name], style_type)\n"
     ]
    },
    {
     "name": "stdout",
     "output_type": "stream",
     "text": [
      "Failures with the following fields: []\n",
      "Updated document saved as: updated_resume.docx\n"
     ]
    }
   ],
   "source": [
    "structured_data = loaded_data[\"structured_data\"]\n",
    "years_exp = loaded_data[\"years_exp\"]\n",
    "profile = loaded_data[\"profile\"]\n",
    "res_dict = loaded_data[\"res_dict\"]\n",
    "generate_resume(structured_data, years_exp, profile, res_dict)"
   ]
  },
  {
   "cell_type": "code",
   "execution_count": null,
   "id": "9150d725",
   "metadata": {},
   "outputs": [],
   "source": []
  }
 ],
 "metadata": {
  "kernelspec": {
   "display_name": "rg-venv",
   "language": "python",
   "name": "python3"
  },
  "language_info": {
   "codemirror_mode": {
    "name": "ipython",
    "version": 3
   },
   "file_extension": ".py",
   "mimetype": "text/x-python",
   "name": "python",
   "nbconvert_exporter": "python",
   "pygments_lexer": "ipython3",
   "version": "3.13.1"
  }
 },
 "nbformat": 4,
 "nbformat_minor": 5
}
